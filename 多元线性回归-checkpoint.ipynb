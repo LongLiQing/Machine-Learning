{
 "cells": [
  {
   "cell_type": "code",
   "execution_count": 12,
   "metadata": {},
   "outputs": [],
   "source": [
    "import numpy as np\n",
    "from numpy import genfromtxt\n",
    "import matplotlib.pyplot as plt\n",
    "from mpl_toolkits.mplot3d import Axes3D"
   ]
  },
  {
   "cell_type": "code",
   "execution_count": 9,
   "metadata": {},
   "outputs": [],
   "source": [
    "#读入数据\n",
    "data = genfromtxt(\"delivery.csv\",delimiter = \",\")"
   ]
  },
  {
   "cell_type": "code",
   "execution_count": 8,
   "metadata": {},
   "outputs": [
    {
     "name": "stdout",
     "output_type": "stream",
     "text": [
      "[[100.   4.]\n",
      " [ 50.   3.]\n",
      " [100.   4.]\n",
      " [100.   2.]\n",
      " [ 50.   2.]\n",
      " [ 80.   2.]\n",
      " [ 75.   3.]\n",
      " [ 65.   4.]\n",
      " [ 90.   3.]\n",
      " [ 90.   2.]]\n",
      "[9.3 4.8 8.9 6.5 4.2 6.2 7.4 6.  7.6 6.1]\n"
     ]
    }
   ],
   "source": [
    "#切分数据\n",
    "x_data = data[:,:-1]\n",
    "y_data = data[:,-1]\n",
    "print(x_data)\n",
    "print(y_data)"
   ]
  },
  {
   "cell_type": "code",
   "execution_count": 13,
   "metadata": {},
   "outputs": [],
   "source": [
    "#学习率learning rate\n",
    "lr = 0.0001\n",
    "#参数\n",
    "theta0 = 0\n",
    "theta1 = 0\n",
    "theta2 = 0\n",
    "#最大迭代数\n",
    "epochs = 1000\n",
    "\n",
    "#最小二乘法\n",
    "def cost_function(theta0,theta1,theta2,x_data,y_data):\n",
    "    totalError = 0\n",
    "    for i in range(0,len(x_data)):\n",
    "        totalError += (y_data[i]-(theta0 + theta1*x_data[i,0] + theta2*x_data[i,1]))**2\n",
    "    return totalError/float(len(x_data))/2\n",
    "\n",
    "#梯度下降法\n",
    "def gradient_descent_method(x_data,y_data,theta0,theta1,theta2,lr,epochs):\n",
    "    #计算总数据量\n",
    "    m = float(len(x_data))\n",
    "    #循环epochs次\n",
    "    for i in range(epochs):\n",
    "        theta0_grad = 0\n",
    "        theta1_grad = 0\n",
    "        theta2_grad = 0\n",
    "        for j in range(0,len(x_data)):\n",
    "            theta0_grad += (1/m)*((theta0 + theta1*x_data[j,0] + theta2*x_data[j,1]) - y_data[j])\n",
    "            theta1_grad += (1/m)*((theta0 + theta1*x_data[j,0] + theta2*x_data[j,1]) - y_data[j])*x_data[j,0]\n",
    "            theta2_grad += (1/m)*((theta0 + theta1*x_data[j,0] + theta2*x_data[j,1]) - y_data[j])*x_data[j,1]\n",
    "        #更新参数\n",
    "        theta0 = theta0 - (lr*theta0_grad)\n",
    "        theta1 = theta1 - (lr*theta1_grad)\n",
    "        theta2 = theta2 - (lr*theta2_grad)\n",
    "    return theta0,theta1,theta2\n"
   ]
  },
  {
   "cell_type": "code",
   "execution_count": 14,
   "metadata": {},
   "outputs": [
    {
     "name": "stdout",
     "output_type": "stream",
     "text": [
      "Starting theta0 =0,theta1 = 0,theta2 = 0, cost = 23.639999999999997\n",
      "After1000 iterations theta0 =0.006971416196678633,theta1 = 0.08021042690771771,theta2 = 0.07611036240566814, cost = 0.3865635716109059\n"
     ]
    }
   ],
   "source": [
    "print(\"Starting theta0 ={0},theta1 = {1},theta2 = {2}, cost = {3}\".\n",
    "         format(theta0,theta1,theta2,cost_function(theta0,theta1,theta2,x_data,y_data)))\n",
    "theta0,theta1,theta2 = gradient_descent_method(x_data,y_data,theta0,theta1,theta2,lr,epochs)\n",
    "print(\"After{0} iterations theta0 ={1},theta1 = {2},theta2 = {3}, cost = {4}\".\n",
    "         format(epochs,theta0,theta1,theta2,cost_function(theta0,theta1,theta2,x_data,y_data)))"
   ]
  },
  {
   "cell_type": "code",
   "execution_count": null,
   "metadata": {},
   "outputs": [],
   "source": [
    "ax = plt.figure().add_subplot(111,projection = '3d')\n",
    "ax.scatter(x_data[:,0],x_data[:,1],y_data,c = 'r', marker = 'o', s = 100 )\n",
    "x0 = x_data[:,0]\n",
    "x1 = x_data[:,1]\n",
    "#生成网格矩阵\n",
    "x0 ,x1 = np.meshgrid(x0,x1)\n",
    "z = theta0 + theta1*x0 + theta2*x1\n",
    "# 画3d图\n",
    "ax.plot_surface(x0,x1,z)\n",
    "#设置坐标轴\n",
    "ax.set_xlabel('x')\n",
    "ax.set_ylabel('y')\n",
    "ax.set_zlabel('z')\n",
    "#显示图像\n",
    "plt.show()"
   ]
  },
  {
   "cell_type": "code",
   "execution_count": null,
   "metadata": {},
   "outputs": [],
   "source": [
    "# 可以利用cmd进行3D图的查看\n",
    "# 打开anaconda 的cmd \n",
    "# 然后输入路径H:    ，再转到cd H:\\code\\python\\Machine Learning\\Regression\n",
    "#         最后python 多元线性回归-checkpoint.py 运行"
   ]
  },
  {
   "cell_type": "code",
   "execution_count": null,
   "metadata": {},
   "outputs": [],
   "source": [
    "#sklearn调用多元线性回归"
   ]
  },
  {
   "cell_type": "code",
   "execution_count": 12,
   "metadata": {},
   "outputs": [],
   "source": [
    "import numpy as np\n",
    "from numpy import genfromtxt\n",
    "from sklearn import linear_model\n",
    "import matplotlib.pyplot as plt\n",
    "from mpl_toolkits.mplot3d import Axes3D"
   ]
  },
  {
   "cell_type": "code",
   "execution_count": 14,
   "metadata": {},
   "outputs": [
    {
     "name": "stdout",
     "output_type": "stream",
     "text": [
      "[[100.    4.    9.3]\n",
      " [ 50.    3.    4.8]\n",
      " [100.    4.    8.9]\n",
      " [100.    2.    6.5]\n",
      " [ 50.    2.    4.2]\n",
      " [ 80.    2.    6.2]\n",
      " [ 75.    3.    7.4]\n",
      " [ 65.    4.    6. ]\n",
      " [ 90.    3.    7.6]\n",
      " [ 90.    2.    6.1]]\n"
     ]
    }
   ],
   "source": [
    "#读入数据\n",
    "data = genfromtxt(\"delivery.csv\",delimiter = ',')\n",
    "print(data)"
   ]
  },
  {
   "cell_type": "code",
   "execution_count": 15,
   "metadata": {},
   "outputs": [
    {
     "name": "stdout",
     "output_type": "stream",
     "text": [
      "[[100.   4.]\n",
      " [ 50.   3.]\n",
      " [100.   4.]\n",
      " [100.   2.]\n",
      " [ 50.   2.]\n",
      " [ 80.   2.]\n",
      " [ 75.   3.]\n",
      " [ 65.   4.]\n",
      " [ 90.   3.]\n",
      " [ 90.   2.]]\n",
      "[9.3 4.8 8.9 6.5 4.2 6.2 7.4 6.  7.6 6.1]\n"
     ]
    }
   ],
   "source": [
    "#切分数据\n",
    "x_data = data[:,:-1]\n",
    "y_data = data[:,-1]\n",
    "print(x_data)\n",
    "print(y_data)"
   ]
  },
  {
   "cell_type": "code",
   "execution_count": 16,
   "metadata": {},
   "outputs": [
    {
     "data": {
      "text/plain": [
       "LinearRegression(copy_X=True, fit_intercept=True, n_jobs=1, normalize=False)"
      ]
     },
     "execution_count": 16,
     "metadata": {},
     "output_type": "execute_result"
    }
   ],
   "source": [
    "#创建模型\n",
    "model = linear_model.LinearRegression()\n",
    "model.fit(x_data,y_data)"
   ]
  },
  {
   "cell_type": "code",
   "execution_count": 17,
   "metadata": {
    "collapsed": true
   },
   "outputs": [
    {
     "name": "stdout",
     "output_type": "stream",
     "text": [
      "coefficients: [0.0611346  0.92342537]\n",
      "intercept: -0.8687014667817126\n",
      "predict: [9.06072908]\n"
     ]
    }
   ],
   "source": [
    "#系数\n",
    "print(\"coefficients:\",model.coef_)\n",
    "\n",
    "#截距\n",
    "print(\"intercept:\",model.intercept_)\n",
    "\n",
    "#测试\n",
    "x_test = [[102,4]]\n",
    "predict = model.predict(x_test)\n",
    "print(\"predict:\",predict)"
   ]
  },
  {
   "cell_type": "code",
   "execution_count": 19,
   "metadata": {},
   "outputs": [
    {
     "data": {
      "image/png": "[encoded data removed]",
      "text/plain": [
       "<Figure size 432x288 with 1 Axes>"
      ]
     },
     "metadata": {
      "needs_background": "light"
     },
     "output_type": "display_data"
    }
   ],
   "source": [
    "ax = plt.figure().add_subplot(111,projection = '3d')\n",
    "ax.scatter(x_data[:,0],x_data[:,1],y_data, c = 'r', marker = 'o', s = 100)\n",
    "x0 = x_data[:,0]\n",
    "x1 = x_data[:,1]\n",
    "\n",
    "#生成网络矩阵\n",
    "x0 ,x1 = np.meshgrid(x0,x1)\n",
    "\n",
    "z = model.intercept_ + x0 * model.coef_[0] + x1 * model.coef_[1]\n",
    "\n",
    "#画3D图\n",
    "ax.plot_surface(x0,x1,z)\n",
    "plt.show()"
   ]
  }
 ],
 "metadata": {
  "kernelspec": {
   "display_name": "Python 3",
   "language": "python",
   "name": "python3"
  },
  "language_info": {
   "codemirror_mode": {
    "name": "ipython",
    "version": 3
   },
   "file_extension": ".py",
   "mimetype": "text/x-python",
   "name": "python",
   "nbconvert_exporter": "python",
   "pygments_lexer": "ipython3",
   "version": "3.7.0"
  }
 },
 "nbformat": 4,
 "nbformat_minor": 2
}
