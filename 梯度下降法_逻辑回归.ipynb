{
 "cells": [
  {
   "cell_type": "code",
   "execution_count": 17,
   "metadata": {},
   "outputs": [],
   "source": [
    "import matplotlib.pyplot as plt\n",
    "import numpy as np\n",
    "from sklearn.metrics import classification_report\n",
    "from sklearn import preprocessing\n",
    "#数据是否需要标准化\n",
    "scale = False\n",
    "# 数据标准化：\n",
    "# 会使原模型图改变，但是能够提高梯度下降法的精确性"
   ]
  },
  {
   "cell_type": "code",
   "execution_count": 18,
   "metadata": {},
   "outputs": [
    {
     "data": {
      "image/png": "[encoded data removed]",
      "text/plain": [
       "<Figure size 432x288 with 1 Axes>"
      ]
     },
     "metadata": {
      "needs_background": "light"
     },
     "output_type": "display_data"
    }
   ],
   "source": [
    "#载入数据\n",
    "data = np.genfromtxt(\"LR_testset.csv\",delimiter=',')\n",
    "x_data = data[:20,:-1]\n",
    "y_data = data[:20,-1]\n",
    "\n",
    "#画出分类模型的散点图\n",
    "def plot():\n",
    "    x0 = []\n",
    "    y0 = []\n",
    "    x1 = []\n",
    "    y1 = []\n",
    "    #切分不同类型的数据\n",
    "    for i in range(len(x_data)):\n",
    "        if y_data[i]==0:\n",
    "            x0.append(x_data[i,0])\n",
    "            y0.append(x_data[i,1])\n",
    "        else:\n",
    "            x1.append(x_data[i,0])\n",
    "            y1.append(x_data[i,1])\n",
    "    \n",
    "    #画图\n",
    "    scatter0 = plt.scatter(x0,y0,c='b',marker='o')\n",
    "    scatter1 = plt.scatter(x1,y1,c='r',marker='x')\n",
    "    #画图例\n",
    "    plt.legend(handles=[scatter0,scatter1],labels=['label0','label1'],loc='best')\n",
    "    \n",
    "plot()\n",
    "plt.show()\n",
    "    "
   ]
  },
  {
   "cell_type": "code",
   "execution_count": 19,
   "metadata": {},
   "outputs": [
    {
     "name": "stdout",
     "output_type": "stream",
     "text": [
      "(20, 2)\n",
      "(20, 1)\n",
      "(20, 3)\n"
     ]
    }
   ],
   "source": [
    "#数据处理,添加偏置项\n",
    "x_data = data[:20,:-1]\n",
    "y_data = data[:20,-1,np.newaxis]\n",
    "\n",
    "print(np.mat(x_data).shape)\n",
    "print(np.mat(y_data).shape)\n",
    "#给样本添加偏置项\n",
    "X_data = np.concatenate((np.ones((20,1)),x_data),axis=1)\n",
    "print(X_data.shape)"
   ]
  },
  {
   "cell_type": "code",
   "execution_count": 20,
   "metadata": {},
   "outputs": [],
   "source": [
    "#sigmoid函数\n",
    "def sigmoid(x):\n",
    "    return 1.0/(1.0 + np.exp(-x))\n",
    "\n",
    "#代价函数\n",
    "def cost(xMat,yMat,ws):\n",
    "    left = np.multiply(yMat,np.log(sigmoid(xMat * ws)))\n",
    "    right = np.multiply(1 - yMat, np.log(1 - sigmoid(xMat * ws)))\n",
    "    return np.sum(left + right) / -(len(xMat))\n",
    "\n",
    "#梯度下降法\n",
    "def gradAscent(xArr,yArr):\n",
    "    \n",
    "    if scale == True:\n",
    "        xArr = preprocessing.scale(xArr)\n",
    "    xMat = np.mat(xArr)\n",
    "    yMat = np.mat(yArr)\n",
    "    \n",
    "    lr = 0.001\n",
    "    epochs = 10000\n",
    "    costList = []\n",
    "    #计算数据行列数\n",
    "    #行代表数据个数\n",
    "    #列代表权值个数\n",
    "    m,n = np.shape(xMat)\n",
    "    #初始化权值\n",
    "    ws = np.mat(np.ones((n,1)))\n",
    "    \n",
    "    for i in range(epochs + 1):\n",
    "        #xMat和weights矩阵相乘\n",
    "        h = sigmoid(xMat * ws)\n",
    "        ws_grad = xMat.T * (h - yMat)/m\n",
    "        ws = ws - lr * ws_grad\n",
    "        \n",
    "        if i % 50 ==0:\n",
    "            costList.append(cost(xMat,yMat,ws))\n",
    "    return ws,costList"
   ]
  },
  {
   "cell_type": "code",
   "execution_count": 21,
   "metadata": {},
   "outputs": [
    {
     "name": "stdout",
     "output_type": "stream",
     "text": [
      "[[ 1.        ]\n",
      " [-0.26505287]\n",
      " [ 0.43149425]]\n"
     ]
    }
   ],
   "source": [
    "#训练模型，得到权值和cost值得变化\n",
    "ws , costList = gradAscent(X_data,y_data)\n",
    "print(ws)"
   ]
  },
  {
   "cell_type": "code",
   "execution_count": 22,
   "metadata": {},
   "outputs": [],
   "source": [
    "if scale ==False:\n",
    "    #画图决策边界\n",
    "    plot()\n",
    "    x_test = [[0],[1]]\n",
    "    #求y_test：\n",
    "#     令w0 + x1*w1 + x2*w2 = 0\n",
    "#     x1与x2的关系即为所求图像直线\n",
    "    y_test = (-ws[0] - x_test * ws[1]) / ws[2]\n",
    "    plt.plot(x_test,y_test,'k')\n",
    "    plt.show()"
   ]
  },
  {
   "cell_type": "code",
   "execution_count": 23,
   "metadata": {},
   "outputs": [
    {
     "data": {
      "image/png": "[encoded data removed]",
      "text/plain": [
       "<Figure size 432x288 with 1 Axes>"
      ]
     },
     "metadata": {
      "needs_background": "light"
     },
     "output_type": "display_data"
    }
   ],
   "source": [
    "#画图 loss 值的变化\n",
    "x = np.linspace(0,10000,201)\n",
    "plt.plot(x,costList,c = 'r')\n",
    "plt.title('Train')\n",
    "plt.xlabel('Epochs')\n",
    "plt.ylabel('Cost')\n",
    "plt.show()"
   ]
  },
  {
   "cell_type": "code",
   "execution_count": 24,
   "metadata": {},
   "outputs": [
    {
     "name": "stdout",
     "output_type": "stream",
     "text": [
      "             precision    recall  f1-score   support\n",
      "\n",
      "        0.0       0.60      0.55      0.57        11\n",
      "        1.0       0.50      0.56      0.53         9\n",
      "\n",
      "avg / total       0.55      0.55      0.55        20\n",
      "\n"
     ]
    }
   ],
   "source": [
    "#预测\n",
    "def predict(x_data,ws):\n",
    "    if scale == True:\n",
    "        x_data = preprocessing.scale(x_data)\n",
    "    xMat = np.mat(x_data)\n",
    "    ws = np.mat(ws)\n",
    "    return [1 if x>=0.5 else 0 for x in sigmoid(xMat*ws)]\n",
    "precisions = predict(X_data,ws)\n",
    "\n",
    "print(classification_report(y_data,precisions))"
   ]
  },
  {
   "cell_type": "code",
   "execution_count": null,
   "metadata": {},
   "outputs": [],
   "source": []
  },
  {
   "cell_type": "code",
   "execution_count": null,
   "metadata": {},
   "outputs": [],
   "source": []
  }
 ],
 "metadata": {
  "kernelspec": {
   "display_name": "Python 3",
   "language": "python",
   "name": "python3"
  },
  "language_info": {
   "codemirror_mode": {
    "name": "ipython",
    "version": 3
   },
   "file_extension": ".py",
   "mimetype": "text/x-python",
   "name": "python",
   "nbconvert_exporter": "python",
   "pygments_lexer": "ipython3",
   "version": "3.7.0"
  }
 },
 "nbformat": 4,
 "nbformat_minor": 2
}
